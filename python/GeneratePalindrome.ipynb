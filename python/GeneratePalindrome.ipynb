{
 "cells": [
  {
   "cell_type": "code",
   "execution_count": 2,
   "metadata": {},
   "outputs": [],
   "source": [
    "import random\n",
    "MAX = 25\n",
    "MISSING = 2\n",
    "nums = [str(random.randint(1,100)) for n in range(MAX)]\n",
    "pal = nums + nums[::-1]\n",
    "with open(\"maybe_palindrome_1.txt\", \"w\") as f:\n",
    "    f.writelines(\"\\n\".join(pal))\n"
   ]
  },
  {
   "cell_type": "code",
   "execution_count": 3,
   "metadata": {},
   "outputs": [],
   "source": [
    "MAX = 25\n",
    "nums = [str(random.randint(1,100)) for n in range(MAX)]\n",
    "pal = nums + nums[::-1]\n",
    "pal[15], pal[47] = pal[47], pal[15]\n",
    "with open(\"maybe_palindrome_2.txt\", \"w\") as f:\n",
    "    f.writelines(\"\\n\".join(pal))"
   ]
  }
 ],
 "metadata": {
  "kernelspec": {
   "display_name": "Python 3",
   "language": "python",
   "name": "python3"
  },
  "language_info": {
   "codemirror_mode": {
    "name": "ipython",
    "version": 3
   },
   "file_extension": ".py",
   "mimetype": "text/x-python",
   "name": "python",
   "nbconvert_exporter": "python",
   "pygments_lexer": "ipython3",
   "version": "3.7.3"
  }
 },
 "nbformat": 4,
 "nbformat_minor": 2
}
